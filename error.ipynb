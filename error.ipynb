{
  "nbformat": 4,
  "nbformat_minor": 0,
  "metadata": {
    "colab": {
      "name": "error.ipynb",
      "provenance": []
    },
    "kernelspec": {
      "name": "python3",
      "display_name": "Python 3"
    },
    "widgets": {
      "application/vnd.jupyter.widget-state+json": {
        "b1489a77de2348ac9a957c53e370fe80": {
          "model_module": "@jupyter-widgets/controls",
          "model_name": "HBoxModel",
          "state": {
            "_view_name": "HBoxView",
            "_dom_classes": [],
            "_model_name": "HBoxModel",
            "_view_module": "@jupyter-widgets/controls",
            "_model_module_version": "1.5.0",
            "_view_count": null,
            "_view_module_version": "1.5.0",
            "box_style": "",
            "layout": "IPY_MODEL_5554c1a7623546ccbf9fcf40854537da",
            "_model_module": "@jupyter-widgets/controls",
            "children": [
              "IPY_MODEL_ece91af196134b4dbda59acc0668dddc",
              "IPY_MODEL_dd22a265699e4050a26208658f6faee5"
            ]
          }
        },
        "5554c1a7623546ccbf9fcf40854537da": {
          "model_module": "@jupyter-widgets/base",
          "model_name": "LayoutModel",
          "state": {
            "_view_name": "LayoutView",
            "grid_template_rows": null,
            "right": null,
            "justify_content": null,
            "_view_module": "@jupyter-widgets/base",
            "overflow": null,
            "_model_module_version": "1.2.0",
            "_view_count": null,
            "flex_flow": null,
            "width": null,
            "min_width": null,
            "border": null,
            "align_items": null,
            "bottom": null,
            "_model_module": "@jupyter-widgets/base",
            "top": null,
            "grid_column": null,
            "overflow_y": null,
            "overflow_x": null,
            "grid_auto_flow": null,
            "grid_area": null,
            "grid_template_columns": null,
            "flex": null,
            "_model_name": "LayoutModel",
            "justify_items": null,
            "grid_row": null,
            "max_height": null,
            "align_content": null,
            "visibility": null,
            "align_self": null,
            "height": null,
            "min_height": null,
            "padding": null,
            "grid_auto_rows": null,
            "grid_gap": null,
            "max_width": null,
            "order": null,
            "_view_module_version": "1.2.0",
            "grid_template_areas": null,
            "object_position": null,
            "object_fit": null,
            "grid_auto_columns": null,
            "margin": null,
            "display": null,
            "left": null
          }
        },
        "ece91af196134b4dbda59acc0668dddc": {
          "model_module": "@jupyter-widgets/controls",
          "model_name": "FloatProgressModel",
          "state": {
            "_view_name": "ProgressView",
            "style": "IPY_MODEL_d393901dab794998b6fcddcdb21eee96",
            "_dom_classes": [],
            "description": "100%",
            "_model_name": "FloatProgressModel",
            "bar_style": "success",
            "max": 900,
            "_view_module": "@jupyter-widgets/controls",
            "_model_module_version": "1.5.0",
            "value": 900,
            "_view_count": null,
            "_view_module_version": "1.5.0",
            "orientation": "horizontal",
            "min": 0,
            "description_tooltip": null,
            "_model_module": "@jupyter-widgets/controls",
            "layout": "IPY_MODEL_b7b8060b3cb440bf8ad8c76ec9844898"
          }
        },
        "dd22a265699e4050a26208658f6faee5": {
          "model_module": "@jupyter-widgets/controls",
          "model_name": "HTMLModel",
          "state": {
            "_view_name": "HTMLView",
            "style": "IPY_MODEL_724e52f503a54c7781072a52a589f0be",
            "_dom_classes": [],
            "description": "",
            "_model_name": "HTMLModel",
            "placeholder": "​",
            "_view_module": "@jupyter-widgets/controls",
            "_model_module_version": "1.5.0",
            "value": " 900/900 [02:59&lt;00:00,  5.02epoch/s]",
            "_view_count": null,
            "_view_module_version": "1.5.0",
            "description_tooltip": null,
            "_model_module": "@jupyter-widgets/controls",
            "layout": "IPY_MODEL_69737a09311644cba32fe79e1679b4ac"
          }
        },
        "d393901dab794998b6fcddcdb21eee96": {
          "model_module": "@jupyter-widgets/controls",
          "model_name": "ProgressStyleModel",
          "state": {
            "_view_name": "StyleView",
            "_model_name": "ProgressStyleModel",
            "description_width": "initial",
            "_view_module": "@jupyter-widgets/base",
            "_model_module_version": "1.5.0",
            "_view_count": null,
            "_view_module_version": "1.2.0",
            "bar_color": null,
            "_model_module": "@jupyter-widgets/controls"
          }
        },
        "b7b8060b3cb440bf8ad8c76ec9844898": {
          "model_module": "@jupyter-widgets/base",
          "model_name": "LayoutModel",
          "state": {
            "_view_name": "LayoutView",
            "grid_template_rows": null,
            "right": null,
            "justify_content": null,
            "_view_module": "@jupyter-widgets/base",
            "overflow": null,
            "_model_module_version": "1.2.0",
            "_view_count": null,
            "flex_flow": null,
            "width": null,
            "min_width": null,
            "border": null,
            "align_items": null,
            "bottom": null,
            "_model_module": "@jupyter-widgets/base",
            "top": null,
            "grid_column": null,
            "overflow_y": null,
            "overflow_x": null,
            "grid_auto_flow": null,
            "grid_area": null,
            "grid_template_columns": null,
            "flex": null,
            "_model_name": "LayoutModel",
            "justify_items": null,
            "grid_row": null,
            "max_height": null,
            "align_content": null,
            "visibility": null,
            "align_self": null,
            "height": null,
            "min_height": null,
            "padding": null,
            "grid_auto_rows": null,
            "grid_gap": null,
            "max_width": null,
            "order": null,
            "_view_module_version": "1.2.0",
            "grid_template_areas": null,
            "object_position": null,
            "object_fit": null,
            "grid_auto_columns": null,
            "margin": null,
            "display": null,
            "left": null
          }
        },
        "724e52f503a54c7781072a52a589f0be": {
          "model_module": "@jupyter-widgets/controls",
          "model_name": "DescriptionStyleModel",
          "state": {
            "_view_name": "StyleView",
            "_model_name": "DescriptionStyleModel",
            "description_width": "",
            "_view_module": "@jupyter-widgets/base",
            "_model_module_version": "1.5.0",
            "_view_count": null,
            "_view_module_version": "1.2.0",
            "_model_module": "@jupyter-widgets/controls"
          }
        },
        "69737a09311644cba32fe79e1679b4ac": {
          "model_module": "@jupyter-widgets/base",
          "model_name": "LayoutModel",
          "state": {
            "_view_name": "LayoutView",
            "grid_template_rows": null,
            "right": null,
            "justify_content": null,
            "_view_module": "@jupyter-widgets/base",
            "overflow": null,
            "_model_module_version": "1.2.0",
            "_view_count": null,
            "flex_flow": null,
            "width": null,
            "min_width": null,
            "border": null,
            "align_items": null,
            "bottom": null,
            "_model_module": "@jupyter-widgets/base",
            "top": null,
            "grid_column": null,
            "overflow_y": null,
            "overflow_x": null,
            "grid_auto_flow": null,
            "grid_area": null,
            "grid_template_columns": null,
            "flex": null,
            "_model_name": "LayoutModel",
            "justify_items": null,
            "grid_row": null,
            "max_height": null,
            "align_content": null,
            "visibility": null,
            "align_self": null,
            "height": null,
            "min_height": null,
            "padding": null,
            "grid_auto_rows": null,
            "grid_gap": null,
            "max_width": null,
            "order": null,
            "_view_module_version": "1.2.0",
            "grid_template_areas": null,
            "object_position": null,
            "object_fit": null,
            "grid_auto_columns": null,
            "margin": null,
            "display": null,
            "left": null
          }
        },
        "d24d2f5756224adfbbc4b568b8ca1e0a": {
          "model_module": "@jupyter-widgets/controls",
          "model_name": "HBoxModel",
          "state": {
            "_view_name": "HBoxView",
            "_dom_classes": [],
            "_model_name": "HBoxModel",
            "_view_module": "@jupyter-widgets/controls",
            "_model_module_version": "1.5.0",
            "_view_count": null,
            "_view_module_version": "1.5.0",
            "box_style": "",
            "layout": "IPY_MODEL_4ede41e724d84a5494e0daf624293244",
            "_model_module": "@jupyter-widgets/controls",
            "children": [
              "IPY_MODEL_1266075c1a2245e8b5f6dc1d47c582d6",
              "IPY_MODEL_170896323cc8453faa1ea8f23625cdc0"
            ]
          }
        },
        "4ede41e724d84a5494e0daf624293244": {
          "model_module": "@jupyter-widgets/base",
          "model_name": "LayoutModel",
          "state": {
            "_view_name": "LayoutView",
            "grid_template_rows": null,
            "right": null,
            "justify_content": null,
            "_view_module": "@jupyter-widgets/base",
            "overflow": null,
            "_model_module_version": "1.2.0",
            "_view_count": null,
            "flex_flow": null,
            "width": null,
            "min_width": null,
            "border": null,
            "align_items": null,
            "bottom": null,
            "_model_module": "@jupyter-widgets/base",
            "top": null,
            "grid_column": null,
            "overflow_y": null,
            "overflow_x": null,
            "grid_auto_flow": null,
            "grid_area": null,
            "grid_template_columns": null,
            "flex": null,
            "_model_name": "LayoutModel",
            "justify_items": null,
            "grid_row": null,
            "max_height": null,
            "align_content": null,
            "visibility": null,
            "align_self": null,
            "height": null,
            "min_height": null,
            "padding": null,
            "grid_auto_rows": null,
            "grid_gap": null,
            "max_width": null,
            "order": null,
            "_view_module_version": "1.2.0",
            "grid_template_areas": null,
            "object_position": null,
            "object_fit": null,
            "grid_auto_columns": null,
            "margin": null,
            "display": null,
            "left": null
          }
        },
        "1266075c1a2245e8b5f6dc1d47c582d6": {
          "model_module": "@jupyter-widgets/controls",
          "model_name": "FloatProgressModel",
          "state": {
            "_view_name": "ProgressView",
            "style": "IPY_MODEL_7ad7646ad03b4076b97291ccd4bfe572",
            "_dom_classes": [],
            "description": "100%",
            "_model_name": "FloatProgressModel",
            "bar_style": "success",
            "max": 500,
            "_view_module": "@jupyter-widgets/controls",
            "_model_module_version": "1.5.0",
            "value": 500,
            "_view_count": null,
            "_view_module_version": "1.5.0",
            "orientation": "horizontal",
            "min": 0,
            "description_tooltip": null,
            "_model_module": "@jupyter-widgets/controls",
            "layout": "IPY_MODEL_c2eb4277dcd94968a5f5dfa633807125"
          }
        },
        "170896323cc8453faa1ea8f23625cdc0": {
          "model_module": "@jupyter-widgets/controls",
          "model_name": "HTMLModel",
          "state": {
            "_view_name": "HTMLView",
            "style": "IPY_MODEL_b487eda69c3648d596c5e8a0dfff8f53",
            "_dom_classes": [],
            "description": "",
            "_model_name": "HTMLModel",
            "placeholder": "​",
            "_view_module": "@jupyter-widgets/controls",
            "_model_module_version": "1.5.0",
            "value": " 500/500 [00:01&lt;00:00, 250.31epoch/s]",
            "_view_count": null,
            "_view_module_version": "1.5.0",
            "description_tooltip": null,
            "_model_module": "@jupyter-widgets/controls",
            "layout": "IPY_MODEL_58aeafb72797429fa7d0344af14bbf3a"
          }
        },
        "7ad7646ad03b4076b97291ccd4bfe572": {
          "model_module": "@jupyter-widgets/controls",
          "model_name": "ProgressStyleModel",
          "state": {
            "_view_name": "StyleView",
            "_model_name": "ProgressStyleModel",
            "description_width": "initial",
            "_view_module": "@jupyter-widgets/base",
            "_model_module_version": "1.5.0",
            "_view_count": null,
            "_view_module_version": "1.2.0",
            "bar_color": null,
            "_model_module": "@jupyter-widgets/controls"
          }
        },
        "c2eb4277dcd94968a5f5dfa633807125": {
          "model_module": "@jupyter-widgets/base",
          "model_name": "LayoutModel",
          "state": {
            "_view_name": "LayoutView",
            "grid_template_rows": null,
            "right": null,
            "justify_content": null,
            "_view_module": "@jupyter-widgets/base",
            "overflow": null,
            "_model_module_version": "1.2.0",
            "_view_count": null,
            "flex_flow": null,
            "width": null,
            "min_width": null,
            "border": null,
            "align_items": null,
            "bottom": null,
            "_model_module": "@jupyter-widgets/base",
            "top": null,
            "grid_column": null,
            "overflow_y": null,
            "overflow_x": null,
            "grid_auto_flow": null,
            "grid_area": null,
            "grid_template_columns": null,
            "flex": null,
            "_model_name": "LayoutModel",
            "justify_items": null,
            "grid_row": null,
            "max_height": null,
            "align_content": null,
            "visibility": null,
            "align_self": null,
            "height": null,
            "min_height": null,
            "padding": null,
            "grid_auto_rows": null,
            "grid_gap": null,
            "max_width": null,
            "order": null,
            "_view_module_version": "1.2.0",
            "grid_template_areas": null,
            "object_position": null,
            "object_fit": null,
            "grid_auto_columns": null,
            "margin": null,
            "display": null,
            "left": null
          }
        },
        "b487eda69c3648d596c5e8a0dfff8f53": {
          "model_module": "@jupyter-widgets/controls",
          "model_name": "DescriptionStyleModel",
          "state": {
            "_view_name": "StyleView",
            "_model_name": "DescriptionStyleModel",
            "description_width": "",
            "_view_module": "@jupyter-widgets/base",
            "_model_module_version": "1.5.0",
            "_view_count": null,
            "_view_module_version": "1.2.0",
            "_model_module": "@jupyter-widgets/controls"
          }
        },
        "58aeafb72797429fa7d0344af14bbf3a": {
          "model_module": "@jupyter-widgets/base",
          "model_name": "LayoutModel",
          "state": {
            "_view_name": "LayoutView",
            "grid_template_rows": null,
            "right": null,
            "justify_content": null,
            "_view_module": "@jupyter-widgets/base",
            "overflow": null,
            "_model_module_version": "1.2.0",
            "_view_count": null,
            "flex_flow": null,
            "width": null,
            "min_width": null,
            "border": null,
            "align_items": null,
            "bottom": null,
            "_model_module": "@jupyter-widgets/base",
            "top": null,
            "grid_column": null,
            "overflow_y": null,
            "overflow_x": null,
            "grid_auto_flow": null,
            "grid_area": null,
            "grid_template_columns": null,
            "flex": null,
            "_model_name": "LayoutModel",
            "justify_items": null,
            "grid_row": null,
            "max_height": null,
            "align_content": null,
            "visibility": null,
            "align_self": null,
            "height": null,
            "min_height": null,
            "padding": null,
            "grid_auto_rows": null,
            "grid_gap": null,
            "max_width": null,
            "order": null,
            "_view_module_version": "1.2.0",
            "grid_template_areas": null,
            "object_position": null,
            "object_fit": null,
            "grid_auto_columns": null,
            "margin": null,
            "display": null,
            "left": null
          }
        },
        "942f0f92b7964432a3d60a1875845040": {
          "model_module": "@jupyter-widgets/controls",
          "model_name": "HBoxModel",
          "state": {
            "_view_name": "HBoxView",
            "_dom_classes": [],
            "_model_name": "HBoxModel",
            "_view_module": "@jupyter-widgets/controls",
            "_model_module_version": "1.5.0",
            "_view_count": null,
            "_view_module_version": "1.5.0",
            "box_style": "",
            "layout": "IPY_MODEL_bce6a33928934b568d4117624f94a65b",
            "_model_module": "@jupyter-widgets/controls",
            "children": [
              "IPY_MODEL_2e0c44d13f5a4ab18523774b1fa00d8b",
              "IPY_MODEL_6e2bf9ae5f6a4814ada45cdb55e6b86b"
            ]
          }
        },
        "bce6a33928934b568d4117624f94a65b": {
          "model_module": "@jupyter-widgets/base",
          "model_name": "LayoutModel",
          "state": {
            "_view_name": "LayoutView",
            "grid_template_rows": null,
            "right": null,
            "justify_content": null,
            "_view_module": "@jupyter-widgets/base",
            "overflow": null,
            "_model_module_version": "1.2.0",
            "_view_count": null,
            "flex_flow": null,
            "width": null,
            "min_width": null,
            "border": null,
            "align_items": null,
            "bottom": null,
            "_model_module": "@jupyter-widgets/base",
            "top": null,
            "grid_column": null,
            "overflow_y": null,
            "overflow_x": null,
            "grid_auto_flow": null,
            "grid_area": null,
            "grid_template_columns": null,
            "flex": null,
            "_model_name": "LayoutModel",
            "justify_items": null,
            "grid_row": null,
            "max_height": null,
            "align_content": null,
            "visibility": null,
            "align_self": null,
            "height": null,
            "min_height": null,
            "padding": null,
            "grid_auto_rows": null,
            "grid_gap": null,
            "max_width": null,
            "order": null,
            "_view_module_version": "1.2.0",
            "grid_template_areas": null,
            "object_position": null,
            "object_fit": null,
            "grid_auto_columns": null,
            "margin": null,
            "display": null,
            "left": null
          }
        },
        "2e0c44d13f5a4ab18523774b1fa00d8b": {
          "model_module": "@jupyter-widgets/controls",
          "model_name": "FloatProgressModel",
          "state": {
            "_view_name": "ProgressView",
            "style": "IPY_MODEL_7d08d67bfd234f2ca6ea8eb403bc1dd1",
            "_dom_classes": [],
            "description": "100%",
            "_model_name": "FloatProgressModel",
            "bar_style": "success",
            "max": 200,
            "_view_module": "@jupyter-widgets/controls",
            "_model_module_version": "1.5.0",
            "value": 200,
            "_view_count": null,
            "_view_module_version": "1.5.0",
            "orientation": "horizontal",
            "min": 0,
            "description_tooltip": null,
            "_model_module": "@jupyter-widgets/controls",
            "layout": "IPY_MODEL_28000a7056bc46b18078a0b9f9b10f2a"
          }
        },
        "6e2bf9ae5f6a4814ada45cdb55e6b86b": {
          "model_module": "@jupyter-widgets/controls",
          "model_name": "HTMLModel",
          "state": {
            "_view_name": "HTMLView",
            "style": "IPY_MODEL_b574ae8664814e87ae0b74358a650323",
            "_dom_classes": [],
            "description": "",
            "_model_name": "HTMLModel",
            "placeholder": "​",
            "_view_module": "@jupyter-widgets/controls",
            "_model_module_version": "1.5.0",
            "value": " 200/200 [00:01&lt;00:00, 182.03epoch/s]",
            "_view_count": null,
            "_view_module_version": "1.5.0",
            "description_tooltip": null,
            "_model_module": "@jupyter-widgets/controls",
            "layout": "IPY_MODEL_6cda7828cf724f9a908a95d1a3006024"
          }
        },
        "7d08d67bfd234f2ca6ea8eb403bc1dd1": {
          "model_module": "@jupyter-widgets/controls",
          "model_name": "ProgressStyleModel",
          "state": {
            "_view_name": "StyleView",
            "_model_name": "ProgressStyleModel",
            "description_width": "initial",
            "_view_module": "@jupyter-widgets/base",
            "_model_module_version": "1.5.0",
            "_view_count": null,
            "_view_module_version": "1.2.0",
            "bar_color": null,
            "_model_module": "@jupyter-widgets/controls"
          }
        },
        "28000a7056bc46b18078a0b9f9b10f2a": {
          "model_module": "@jupyter-widgets/base",
          "model_name": "LayoutModel",
          "state": {
            "_view_name": "LayoutView",
            "grid_template_rows": null,
            "right": null,
            "justify_content": null,
            "_view_module": "@jupyter-widgets/base",
            "overflow": null,
            "_model_module_version": "1.2.0",
            "_view_count": null,
            "flex_flow": null,
            "width": null,
            "min_width": null,
            "border": null,
            "align_items": null,
            "bottom": null,
            "_model_module": "@jupyter-widgets/base",
            "top": null,
            "grid_column": null,
            "overflow_y": null,
            "overflow_x": null,
            "grid_auto_flow": null,
            "grid_area": null,
            "grid_template_columns": null,
            "flex": null,
            "_model_name": "LayoutModel",
            "justify_items": null,
            "grid_row": null,
            "max_height": null,
            "align_content": null,
            "visibility": null,
            "align_self": null,
            "height": null,
            "min_height": null,
            "padding": null,
            "grid_auto_rows": null,
            "grid_gap": null,
            "max_width": null,
            "order": null,
            "_view_module_version": "1.2.0",
            "grid_template_areas": null,
            "object_position": null,
            "object_fit": null,
            "grid_auto_columns": null,
            "margin": null,
            "display": null,
            "left": null
          }
        },
        "b574ae8664814e87ae0b74358a650323": {
          "model_module": "@jupyter-widgets/controls",
          "model_name": "DescriptionStyleModel",
          "state": {
            "_view_name": "StyleView",
            "_model_name": "DescriptionStyleModel",
            "description_width": "",
            "_view_module": "@jupyter-widgets/base",
            "_model_module_version": "1.5.0",
            "_view_count": null,
            "_view_module_version": "1.2.0",
            "_model_module": "@jupyter-widgets/controls"
          }
        },
        "6cda7828cf724f9a908a95d1a3006024": {
          "model_module": "@jupyter-widgets/base",
          "model_name": "LayoutModel",
          "state": {
            "_view_name": "LayoutView",
            "grid_template_rows": null,
            "right": null,
            "justify_content": null,
            "_view_module": "@jupyter-widgets/base",
            "overflow": null,
            "_model_module_version": "1.2.0",
            "_view_count": null,
            "flex_flow": null,
            "width": null,
            "min_width": null,
            "border": null,
            "align_items": null,
            "bottom": null,
            "_model_module": "@jupyter-widgets/base",
            "top": null,
            "grid_column": null,
            "overflow_y": null,
            "overflow_x": null,
            "grid_auto_flow": null,
            "grid_area": null,
            "grid_template_columns": null,
            "flex": null,
            "_model_name": "LayoutModel",
            "justify_items": null,
            "grid_row": null,
            "max_height": null,
            "align_content": null,
            "visibility": null,
            "align_self": null,
            "height": null,
            "min_height": null,
            "padding": null,
            "grid_auto_rows": null,
            "grid_gap": null,
            "max_width": null,
            "order": null,
            "_view_module_version": "1.2.0",
            "grid_template_areas": null,
            "object_position": null,
            "object_fit": null,
            "grid_auto_columns": null,
            "margin": null,
            "display": null,
            "left": null
          }
        }
      }
    }
  },
  "cells": [
    {
      "cell_type": "markdown",
      "metadata": {
        "id": "VdWtOPjLlbRa",
        "colab_type": "text"
      },
      "source": [
        "## New Section"
      ]
    },
    {
      "cell_type": "code",
      "metadata": {
        "id": "tXapkFx9xlRp",
        "colab_type": "code",
        "colab": {
          "base_uri": "https://localhost:8080/",
          "height": 70
        },
        "outputId": "77c71595-b502-42ed-a119-129bbca2aab1"
      },
      "source": [
        "from mpl_toolkits.mplot3d import Axes3D\n",
        "import matplotlib.pyplot as plt\n",
        "\n",
        "from matplotlib import cm\n",
        "import matplotlib.colors\n",
        "\n",
        "from matplotlib import animation, rc\n",
        "from IPython.display import HTML\n",
        "\n",
        "import numpy as np\n",
        "import pandas as pd\n",
        "from sklearn.model_selection import train_test_split\n",
        "from sklearn.metrics import accuracy_score, mean_squared_error,log_loss\n",
        "from tqdm import tqdm_notebook\n",
        "import imageio\n",
        "import seaborn as sns \n",
        "from sklearn.datasets import make_blobs\n",
        "\n",
        "from sklearn.preprocessing import OneHotEncoder\n",
        "import warnings\n",
        "warnings.filterwarnings('ignore')"
      ],
      "execution_count": 1,
      "outputs": [
        {
          "output_type": "stream",
          "text": [
            "/usr/local/lib/python3.6/dist-packages/statsmodels/tools/_testing.py:19: FutureWarning: pandas.util.testing is deprecated. Use the functions in the public API at pandas.testing instead.\n",
            "  import pandas.util.testing as tm\n"
          ],
          "name": "stderr"
        }
      ]
    },
    {
      "cell_type": "code",
      "metadata": {
        "id": "s_R1hYqpRGyN",
        "colab_type": "code",
        "colab": {}
      },
      "source": [
        "my_cmap = matplotlib.colors.LinearSegmentedColormap.from_list(\"\", [\"red\",\"yellow\",\"green\",\"blue\"])"
      ],
      "execution_count": 2,
      "outputs": []
    },
    {
      "cell_type": "code",
      "metadata": {
        "id": "FZ11IK-SRjbg",
        "colab_type": "code",
        "colab": {}
      },
      "source": [
        "np.random.seed(0)\n"
      ],
      "execution_count": 3,
      "outputs": []
    },
    {
      "cell_type": "code",
      "metadata": {
        "id": "zzZQGCgHRjUS",
        "colab_type": "code",
        "colab": {
          "base_uri": "https://localhost:8080/",
          "height": 34
        },
        "outputId": "b0dda36c-5187-45b7-d494-1864bd311f3a"
      },
      "source": [
        "data, labels = make_blobs(n_samples=1000, centers=20, n_features=10, random_state=0)\n",
        "print(data.shape, labels.shape)"
      ],
      "execution_count": 4,
      "outputs": [
        {
          "output_type": "stream",
          "text": [
            "(1000, 10) (1000,)\n"
          ],
          "name": "stdout"
        }
      ]
    },
    {
      "cell_type": "code",
      "metadata": {
        "id": "PDLO97H4RjNJ",
        "colab_type": "code",
        "colab": {
          "base_uri": "https://localhost:8080/",
          "height": 267
        },
        "outputId": "5fdbe453-0475-44f5-e275-cd34be1bb67c"
      },
      "source": [
        "plt.scatter(data[:,0], data[:,1], c=labels, cmap=my_cmap)\n",
        "plt.show()"
      ],
      "execution_count": 5,
      "outputs": [
        {
          "output_type": "display_data",
          "data": {
            "image/png": "[encoded data removed]",
            "text/plain": [
              "<Figure size 432x288 with 1 Axes>"
            ]
          },
          "metadata": {
            "tags": [],
            "needs_background": "light"
          }
        }
      ]
    },
    {
      "cell_type": "code",
      "metadata": {
        "id": "h-lmjg82RjE8",
        "colab_type": "code",
        "colab": {}
      },
      "source": [
        "labels_orig = labels\n",
        "labels = np.mod(labels_orig, 2)"
      ],
      "execution_count": 6,
      "outputs": []
    },
    {
      "cell_type": "code",
      "metadata": {
        "id": "zFKcKfecRyQi",
        "colab_type": "code",
        "colab": {
          "base_uri": "https://localhost:8080/",
          "height": 267
        },
        "outputId": "585129e3-ae3a-4fb8-fe28-a838eda88beb"
      },
      "source": [
        "plt.scatter(data[:,0], data[:,1], c=labels, cmap=my_cmap)\n",
        "plt.show()"
      ],
      "execution_count": 7,
      "outputs": [
        {
          "output_type": "display_data",
          "data": {
            "image/png": "[encoded data removed]",
            "text/plain": [
              "<Figure size 432x288 with 1 Axes>"
            ]
          },
          "metadata": {
            "tags": [],
            "needs_background": "light"
          }
        }
      ]
    },
    {
      "cell_type": "code",
      "metadata": {
        "id": "mTcxbI4URx9C",
        "colab_type": "code",
        "colab": {
          "base_uri": "https://localhost:8080/",
          "height": 34
        },
        "outputId": "0823a8c2-95cc-4170-98bf-2630572f49f8"
      },
      "source": [
        "X_train, X_val, Y_train, Y_val = train_test_split(data, labels, stratify=labels, random_state=0)\n",
        "print(X_train.shape, X_val.shape,Y_train.shape,Y_val.shape)"
      ],
      "execution_count": 8,
      "outputs": [
        {
          "output_type": "stream",
          "text": [
            "(750, 10) (250, 10) (750,) (250,)\n"
          ],
          "name": "stdout"
        }
      ]
    },
    {
      "cell_type": "code",
      "metadata": {
        "id": "f2fS1f9MRx3u",
        "colab_type": "code",
        "colab": {
          "base_uri": "https://localhost:8080/",
          "height": 34
        },
        "outputId": "909451de-c0e5-41e3-af07-32a6be930846"
      },
      "source": [
        "X_train_m, X_val_m, Y_train_m, Y_val_m = train_test_split(data, labels_orig, stratify=labels_orig, random_state=0)\n",
        "print(X_train_m.shape, X_val_m.shape, labels_orig.shape)"
      ],
      "execution_count": 9,
      "outputs": [
        {
          "output_type": "stream",
          "text": [
            "(750, 10) (250, 10) (1000,)\n"
          ],
          "name": "stdout"
        }
      ]
    },
    {
      "cell_type": "code",
      "metadata": {
        "id": "xg8VF-jUBIjd",
        "colab_type": "code",
        "colab": {
          "base_uri": "https://localhost:8080/",
          "height": 34
        },
        "outputId": "0db89e62-bc4d-476f-ce23-0a23ee2e1abc"
      },
      "source": [
        "enc = OneHotEncoder()\n",
        "# 0 -> (1, 0, 0, 0), 1 -> (0, 1, 0, 0), 2 -> (0, 0, 1, 0), 3 -> (0, 0, 0, 1)\n",
        "y_OH_train = enc.fit_transform(np.expand_dims(Y_train_m,1)).toarray()\n",
        "y_OH_val = enc.fit_transform(np.expand_dims(Y_val_m,1)).toarray()\n",
        "print(y_OH_train.shape, y_OH_val.shape)"
      ],
      "execution_count": 10,
      "outputs": [
        {
          "output_type": "stream",
          "text": [
            "(750, 20) (250, 20)\n"
          ],
          "name": "stdout"
        }
      ]
    },
    {
      "cell_type": "code",
      "metadata": {
        "id": "P8bD2O7yy_QC",
        "colab_type": "code",
        "colab": {}
      },
      "source": [
        "class FFSNNetwork:\n",
        "  \n",
        "  def __init__(self, n_inputs, hidden_sizes=[2],int_method='random',activitaion_fun='sigmoid',leaky_slope=0.01):\n",
        "    self.nx = n_inputs\n",
        "    self.ny = 1\n",
        "    self.nh = len(hidden_sizes)\n",
        "    self.int_method=int_method\n",
        "    self.activitaion_fun=activitaion_fun\n",
        "    self.sizes = [self.nx] + hidden_sizes + [self.ny]\n",
        "    self.leaky_slope=leaky_slope\n",
        "    np.random.seed(0)\n",
        "    print(self.sizes)\n",
        "    \n",
        "    self.W = {}\n",
        "    self.B = {}\n",
        "    self.W_H=[]\n",
        "    self.B_H=[]\n",
        "    self.E_H=[]\n",
        "    self.params={}\n",
        "    self.update_params={}\n",
        "    self.prev_update_params={}\n",
        "    for i in range(self.nh+1):\n",
        "      self.update_params[\"v_w\"+str(i+1)]=0\n",
        "      self.update_params[\"v_b\"+str(i+1)]=0\n",
        "      self.update_params[\"m_b\"+str(i+1)]=0\n",
        "      self.update_params[\"m_w\"+str(i+1)]=0\n",
        "      self.prev_update_params[\"v_w\"+str(i+1)]=0\n",
        "      self.prev_update_params[\"v_b\"+str(i+1)]=0\n",
        "    if int_method == \"random\":\n",
        "      for i in range(self.nh+1):\n",
        "        self.params[\"W\"+str(i+1)] = np.random.randn(self.sizes[i], self.sizes[i+1])\n",
        "        self.params[\"B\"+str(i+1)]= np.zeros((1, self.sizes[i+1]))\n",
        "        # self.temp_params[\"W\"+str(i+1)]=self.W[i+1].copy()\n",
        "        # self.temp_params[\"B\"+str(i+1)]=self.B[i+1].copy()\n",
        "    elif int_method == \"zeros\":\n",
        "      for i in range(self.nh+1):\n",
        "        self.params[\"W\"+str(i+1)] = np.zeros((self.sizes[i], self.sizes[i+1]))\n",
        "        self.params[\"B\"+str(i+1)]= np.zeros((1, self.sizes[i+1]))\n",
        "    elif int_method == \"xavier\":\n",
        "      for i in range(self.nh+1):\n",
        "        self.params[\"W\"+str(i+1)] = np.random.randn(self.sizes[i], self.sizes[i+1])*np.square(1/self.sizes[i])\n",
        "        self.params[\"B\"+str(i+1)]= np.zeros((1, self.sizes[i+1]))\n",
        "    elif int_method == \"he\":\n",
        "      for i in range(self.nh+1):\n",
        "        self.params[\"W\"+str(i+1)] = np.random.randn(self.sizes[i], self.sizes[i+1])*np.square(1/(self.sizes[i]/2))\n",
        "        self.params[\"B\"+str(i+1)]= np.zeros((1, self.sizes[i+1]))\n",
        "\n",
        "\n",
        "\n",
        "      \n",
        "  \n",
        "  def sigmoid(self, X):\n",
        "    return 1.0/(1.0 + np.exp(-X))\n",
        "  \n",
        "  def activation_farwoard_pass(self,X):\n",
        "    if self.activitaion_fun == \"sigmoid\":\n",
        "      return 1.0/(1.0 + np.exp(-X))\n",
        "    elif self.activitaion_fun == \"tanh\":\n",
        "      return np.tanh(X)\n",
        "    elif self.activitaion_fun == \"Relu\":\n",
        "      return np.maximum(0,X)\n",
        "    elif self.activitaion_fun == \"leaky_Relu\":\n",
        "      return np.maximum(self.leaky_slope*X,X)\n",
        "  \n",
        "  def grad_farword_pass(self,X):\n",
        "    if self.activitaion_fun == \"sigmoid\":\n",
        "      return X*(1-X)\n",
        "    elif self.activitaion_fun == \"tanh\":\n",
        "      return (1-np.square(X))\n",
        "    elif self.activitaion_fun == \"Relu\":\n",
        "      return 1.0*(X>0)\n",
        "    elif self.activitaion_fun == \"leaky_Relu\":\n",
        "      d=np.zeros_like(X)\n",
        "      d[X<=0]=self.leaky_slope\n",
        "      d[X>0]=1.0\n",
        "      return d\n",
        "\n",
        "  \n",
        "  def forward_pass(self, X ,params=None):\n",
        "    if(params is None):\n",
        "      params=self.params\n",
        "\n",
        "    self.A = {}\n",
        "    self.H = {}\n",
        "    self.H[0]=X\n",
        "    # self.H[0] = X.reshape(1, -1)\n",
        "    for i in range(self.nh):\n",
        "      # print(\"mat mul{} ** {} ++ {}\".format(self.H[i].shape,params[\"W\"+str(i+1)].shape,params[\"B\"+str(i+1)].shape))\n",
        "      self.A[i+1] = np.matmul(self.H[i], params[\"W\"+str(i+1)]) + params[\"B\"+str(i+1)]\n",
        "      self.H[i+1] = self.activation_farwoard_pass(self.A[i+1])\n",
        "      # print(\"A--{} is --{}\".format(i+1,self.H[i+1])) \n",
        "      # print(\"H--{} is --{}\".format(i+1,self.H[i+1])) \n",
        "    self.A[self.nh+1] = np.matmul(self.H[self.nh], params[\"W\"+str(self.nh+1)]) + params[\"B\"+str(self.nh+1)]\n",
        "    self.H[self.nh+1] = self.sigmoid(self.A[self.nh+1])\n",
        "    # temp=np.matmul(self.H[self.nh], params[\"W\"+str(self.nh+1)])\n",
        "    # print(\"activation is{}\".format(self.H[self.nh]))\n",
        "    # print(\"temp is {}\".format(temp))\n",
        "    # print(\"sigmoid input  is{}\".format(self.A[self.nh+1]))\n",
        "    # print(\"sigmoid is{}\".format(self.H[self.nh+1]))\n",
        "      \n",
        "    return self.H[self.nh+1]\n",
        "  \n",
        "  # def grad_sigmoid(self, X):\n",
        "  #   return X*(1-X) \n",
        "  def squared_error(self,Y_pred,Y_true):\n",
        "    return np.square(np.subtract(Y_true,Y_pred)).mean() \n",
        "\n",
        "  def grad(self, X, Y,params=None):\n",
        "    if params is None:\n",
        "      params=self.params\n",
        "\n",
        "    self.forward_pass(X,params)\n",
        "    self.dW = {}\n",
        "    self.dB = {}\n",
        "    self.dH = {}\n",
        "    self.dA = {}\n",
        "    L = self.nh + 1\n",
        "    N=Y.shape[0]\n",
        "    Y=Y.reshape(N,1)\n",
        "    self.dA[L] = (self.H[L] - Y)\n",
        "    # print(\"HL{}--Y{}\".format(self.H[L].shape,Y.shape))\n",
        "    for k in range(L, 0, -1):\n",
        "      # print(k)\n",
        "      # print(\"Dw of k is=={} ** {}\".format(self.H[k-1].T.shape,self.dA[k].shape))\n",
        "      self.dW[k] = np.matmul(self.H[k-1].T, self.dA[k])\n",
        "      self.dB[k] = np.sum(self.dA[k],axis=0).reshape(1,-1)\n",
        "      # print(\"DB{}\".format(dB[3].shape))\n",
        "      self.dH[k-1] = np.matmul(self.dA[k], self.params[\"W\"+str(k)].T)\n",
        "      self.dA[k-1] = np.multiply(self.dH[k-1], self.grad_farword_pass(self.H[k-1]))\n",
        "    \n",
        "  def fit(self, X, Y, algo=\"GD\",epochs=1, learning_rate=1, initialise=True, display_loss=False,gamma=0.9,eta=1,\n",
        "          mini_batch_size=100,eps=1e-8,beta=0.9,beta1=0.9,beta2=0.9):\n",
        "    \n",
        "    # initialise w, b\n",
        "    if initialise:\n",
        "\n",
        "      for i in range(self.nh+1):\n",
        "        self.params[\"W\"+str(i+1)] = np.random.randn(self.sizes[i], self.sizes[i+1])\n",
        "        self.params[\"B\"+str(i+1)]= np.zeros((1, self.sizes[i+1]))\n",
        "        self.update_params[\"v_w\"+str(i+1)]=0\n",
        "        self.update_params[\"v_b\"+str(i+1)]=0\n",
        "        self.update_params[\"m_b\"+str(i+1)]=0\n",
        "        self.update_params[\"m_w\"+str(i+1)]=0\n",
        "        self.prev_update_params[\"v_w\"+str(i+1)]=0\n",
        "        self.prev_update_params[\"v_b\"+str(i+1)]=0\n",
        "\n",
        "      \n",
        "    if display_loss:\n",
        "      loss = {}\n",
        "    \n",
        "    for e in tqdm_notebook(range(epochs), total=epochs, unit=\"epoch\"):\n",
        "      dW = {}\n",
        "      dB = {}\n",
        "      m = X.shape[0]\n",
        "      # for i in range(self.nh+1):\n",
        "      #   dW[i+1] = np.zeros((self.sizes[i], self.sizes[i+1]))\n",
        "      #   dB[i+1] = np.zeros((1, self.sizes[i+1]))\n",
        "      \n",
        "        # for i in range(self.nh+1):\n",
        "        #   dW[i+1] += self.dW[i+1]\n",
        "        #   dB[i+1] += self.dB[i+1]\n",
        "      if algo==\"GD\":\n",
        "        self.grad(X, Y)  \n",
        "        for i in range(self.nh+1):\n",
        "          self.params[\"W\"+str(i+1)] -= learning_rate * self.dW[i+1] / m\n",
        "          self.params[\"B\"+str(i+1)] -= learning_rate * self.dB[i+1] / m\n",
        "      \n",
        "      elif algo == \"MiniBatch\":\n",
        "        for k in range(0,m,mini_batch_size):\n",
        "          self.grad(X[k:k+mini_batch_size], Y[k:k+mini_batch_size])\n",
        "          for i in range(self.nh+1):\n",
        "            self.params[\"W\"+str(i+1)] -= eta * (self.dW[i+1]/mini_batch_size)\n",
        "            self.params[\"B\"+str(i+1)] -= eta * (self.dB[i+1]/mini_batch_size)\n",
        "      \n",
        "      elif algo==\"Momentum\":\n",
        "        self.grad(X,Y)\n",
        "        for i in range(self.nh+1):\n",
        "          self.update_params[\"v_w\"+str(i+1)] = gamma *self.update_params[\"v_w\"+str(i+1)] + eta * (self.dW[i+1]/m)\n",
        "          self.update_params[\"v_b\"+str(i+1)] = gamma *self.update_params[\"v_b\"+str(i+1)] + eta * (self.dB[i+1]/m)\n",
        "          self.params[\"W\"+str(i+1)] -= self.update_params[\"v_w\"+str(i+1)]\n",
        "          self.params[\"B\"+str(i+1)] -= self.update_params[\"v_b\"+str(i+1)]\n",
        "      elif algo == \"NAG\":\n",
        "        temp_params = {}\n",
        "        for i in range(self.nh+1):\n",
        "          self.update_params[\"v_w\"+str(i+1)]=gamma*self.prev_update_params[\"v_w\"+str(i+1)]\n",
        "          self.update_params[\"v_b\"+str(i+1)]=gamma*self.prev_update_params[\"v_b\"+str(i+1)]\n",
        "          temp_params[\"W\"+str(i+1)]=self.params[\"W\"+str(i+1)]-self.update_params[\"v_w\"+str(i+1)]\n",
        "          temp_params[\"B\"+str(i+1)]=self.params[\"B\"+str(i+1)]-self.update_params[\"v_b\"+str(i+1)]\n",
        "        self.grad(X,Y,temp_params)\n",
        "        for i in range(self.nh+1):\n",
        "          self.update_params[\"v_w\"+str(i+1)] = gamma *self.update_params[\"v_w\"+str(i+1)] + eta * (self.dW[i+1]/m)\n",
        "          self.update_params[\"v_b\"+str(i+1)] = gamma *self.update_params[\"v_b\"+str(i+1)] + eta * (self.dB[i+1]/m)\n",
        "          self.params[\"W\"+str(i+1)] -= eta * (self.update_params[\"v_w\"+str(i+1)])\n",
        "          self.params[\"B\"+str(i+1)] -= eta * (self.update_params[\"v_b\"+str(i+1)]) \n",
        "        self.prev_update_params=self.update_params\n",
        "      \n",
        "      elif algo == \"AdaGrad\":\n",
        "        self.grad(X, Y)\n",
        "        for i in range(self.nh+1):\n",
        "          self.update_params[\"v_w\"+str(i+1)] += (self.dW[i+1]/m)**2\n",
        "          self.update_params[\"v_b\"+str(i+1)] += (self.dB[i+1]/m)**2\n",
        "          self.params[\"W\"+str(i+1)] -= (eta/(np.sqrt(self.update_params[\"v_w\"+str(i+1)])+eps)) * (self.dW[i+1]/m)\n",
        "          self.params[\"B\"+str(i+1)] -= (eta/(np.sqrt(self.update_params[\"v_b\"+str(i+1)])+eps)) * (self.dB[i+1]/m)\n",
        "     \n",
        "      elif algo == \"RMSProp\":\n",
        "        self.grad(X, Y)\n",
        "        for i in range(self.nh+1):\n",
        "          self.update_params[\"v_w\"+str(i+1)] = beta*self.update_params[\"v_w\"+str(i+1)] +(1-beta)*((self.dW[i+1]/m)**2)\n",
        "          self.update_params[\"v_b\"+str(i+1)] = beta*self.update_params[\"v_b\"+str(i+1)] +(1-beta)*((self.dB[i+1]/m)**2)\n",
        "          self.params[\"W\"+str(i+1)] -= (eta/(np.sqrt(self.update_params[\"v_w\"+str(i+1)]+eps)))*(self.dW[i+1]/m)\n",
        "          self.params[\"B\"+str(i+1)] -= (eta/(np.sqrt(self.update_params[\"v_b\"+str(i+1)]+eps)))*(self.dB[i+1]/m)\n",
        "      \n",
        "      \n",
        "      elif algo == \"Adam\":\n",
        "        self.grad(X, Y)\n",
        "        num_updates=0\n",
        "        for i in range(self.nh+1):\n",
        "          num_updates+=1\n",
        "          self.update_params[\"m_w\"+str(i+1)]=beta1*self.update_params[\"m_w\"+str(i+1)]+(1-beta1)*(self.dW[i+1]/m)\n",
        "          self.update_params[\"v_w\"+str(i+1)]=beta2*self.update_params[\"v_w\"+str(i+1)]+(1-beta2)*((self.dW[i+1]/m)**2)\n",
        "          m_w_hat=self.update_params[\"m_w\"+str(i+1)]/(1-np.power(beta1,num_updates))\n",
        "          v_w_hat=self.update_params[\"v_w\"+str(i+1)]/(1-np.power(beta2,num_updates))\n",
        "          self.params[\"W\"+str(i+1)] -=(eta/np.sqrt(v_w_hat+eps))*m_w_hat\n",
        "          \n",
        "          self.update_params[\"m_b\"+str(i+1)]=beta1*self.update_params[\"m_b\"+str(i+1)]+(1-beta1)*(self.dB[i+1]/m)\n",
        "          self.update_params[\"v_b\"+str(i+1)]=beta2*self.update_params[\"v_b\"+str(i+1)]+(1-beta2)*((self.dB[i+1]/m)**2)\n",
        "          m_b_hat=self.update_params[\"m_b\"+str(i+1)]/(1-np.power(beta1,num_updates))\n",
        "          v_b_hat=self.update_params[\"v_b\"+str(i+1)]/(1-np.power(beta2,num_updates))\n",
        "          self.params[\"B\"+str(i+1)] -=(eta/np.sqrt(v_b_hat+eps))*m_b_hat\n",
        "\n",
        "      if display_loss:\n",
        "        Y_pred = self.predict(X)\n",
        "        # print(Y_pred) \n",
        "        loss[e] = mean_squared_error(Y_pred, Y)\n",
        "           \n",
        "    if display_loss:\n",
        "      plt.plot(np.array(list(loss.values())))\n",
        "      plt.xlabel('Epochs')\n",
        "      plt.ylabel('Mean Squared Error')\n",
        "      plt.show()\n",
        "      \n",
        "  def predict(self, X):\n",
        "    Y_pred1 = []\n",
        "    y_pred = self.forward_pass(X)\n",
        "    Y_pred1.append(y_pred)\n",
        "    return np.array(Y_pred1).squeeze()"
      ],
      "execution_count": 139,
      "outputs": []
    },
    {
      "cell_type": "code",
      "metadata": {
        "id": "UAPnnFm_SYtj",
        "colab_type": "code",
        "colab": {
          "base_uri": "https://localhost:8080/",
          "height": 345,
          "referenced_widgets": [
            "b1489a77de2348ac9a957c53e370fe80",
            "5554c1a7623546ccbf9fcf40854537da",
            "ece91af196134b4dbda59acc0668dddc",
            "dd22a265699e4050a26208658f6faee5",
            "d393901dab794998b6fcddcdb21eee96",
            "b7b8060b3cb440bf8ad8c76ec9844898",
            "724e52f503a54c7781072a52a589f0be",
            "69737a09311644cba32fe79e1679b4ac"
          ]
        },
        "outputId": "a82d3432-775c-4193-e8a8-a31ed41ce5c4"
      },
      "source": [
        "sai=FFSNNetwork(10,[6,6,3],int_method='he',activitaion_fun='leaky_Relu',leaky_slope=0.01)\n",
        "\n",
        "sai.fit(X_train, Y_train, epochs=900, eta=0.1, algo=\"GD\", gamma=0.6, display_loss=True)"
      ],
      "execution_count": 150,
      "outputs": [
        {
          "output_type": "stream",
          "text": [
            "[10, 6, 6, 3, 1]\n"
          ],
          "name": "stdout"
        },
        {
          "output_type": "display_data",
          "data": {
            "application/vnd.jupyter.widget-view+json": {
              "model_id": "b1489a77de2348ac9a957c53e370fe80",
              "version_minor": 0,
              "version_major": 2
            },
            "text/plain": [
              "HBox(children=(FloatProgress(value=0.0, max=900.0), HTML(value='')))"
            ]
          },
          "metadata": {
            "tags": []
          }
        },
        {
          "output_type": "stream",
          "text": [
            "\n"
          ],
          "name": "stdout"
        },
        {
          "output_type": "display_data",
          "data": {
            "image/png": "[encoded data removed]",
            "text/plain": [
              "<Figure size 432x288 with 1 Axes>"
            ]
          },
          "metadata": {
            "tags": [],
            "needs_background": "light"
          }
        }
      ]
    },
    {
      "cell_type": "code",
      "metadata": {
        "id": "CCH5wvzcSwZH",
        "colab_type": "code",
        "colab": {
          "base_uri": "https://localhost:8080/",
          "height": 50
        },
        "outputId": "feba2244-673b-4e83-f58b-d8ea37c8f026"
      },
      "source": [
        "Y_pred_train = sai.predict(X_train)\n",
        "Y_pred_binarised_train = (Y_pred_train >= 0.5).astype(\"int\").ravel()\n",
        "Y_pred_val = sai.predict(X_val)\n",
        "Y_pred_binarised_val = (Y_pred_val >= 0.5).astype(\"int\").ravel()\n",
        "accuracy_train = accuracy_score(Y_pred_binarised_train, Y_train)\n",
        "accuracy_val = accuracy_score(Y_pred_binarised_val, Y_val)\n",
        "\n",
        "print(\"Training accuracy\", round(accuracy_train, 2))\n",
        "print(\"Validation accuracy\", round(accuracy_val, 2))"
      ],
      "execution_count": 145,
      "outputs": [
        {
          "output_type": "stream",
          "text": [
            "Training accuracy 1.0\n",
            "Validation accuracy 1.0\n"
          ],
          "name": "stdout"
        }
      ]
    },
    {
      "cell_type": "code",
      "metadata": {
        "id": "sD_X7v0uUpbr",
        "colab_type": "code",
        "colab": {
          "base_uri": "https://localhost:8080/",
          "height": 267
        },
        "outputId": "09887882-1b3b-4f71-a753-eb184397ff94"
      },
      "source": [
        "\n",
        "plt.scatter(X_train[:,0], X_train[:,1], c=Y_pred_binarised_train, cmap=my_cmap, s=15*(np.abs(np.sign(Y_pred_binarised_train-Y_train))+.02))\n",
        "plt.show()"
      ],
      "execution_count": 146,
      "outputs": [
        {
          "output_type": "display_data",
          "data": {
            "image/png": "[encoded data removed]",
            "text/plain": [
              "<Figure size 432x288 with 1 Axes>"
            ]
          },
          "metadata": {
            "tags": [],
            "needs_background": "light"
          }
        }
      ]
    },
    {
      "cell_type": "code",
      "metadata": {
        "id": "utoD5P59qim5",
        "colab_type": "code",
        "colab": {}
      },
      "source": [
        ""
      ],
      "execution_count": 15,
      "outputs": []
    },
    {
      "cell_type": "markdown",
      "metadata": {
        "id": "YMzinceE7iQl",
        "colab_type": "text"
      },
      "source": [
        "# mutli class optimized\n"
      ]
    },
    {
      "cell_type": "code",
      "metadata": {
        "id": "SlWoIwU4DNFr",
        "colab_type": "code",
        "colab": {}
      },
      "source": [
        "class FFSNNetwork_mul:\n",
        "  \n",
        "  def __init__(self, n_inputs,n_outputs, hidden_sizes=[2],int_method='random',activitaion_fun='sigmoid',leaky_slope=0.01):\n",
        "    self.nx = n_inputs\n",
        "    self.ny = n_outputs\n",
        "    self.nh = len(hidden_sizes)\n",
        "    self.int_method=int_method\n",
        "    self.activitaion_fun=activitaion_fun\n",
        "    self.leaky_slope=leaky_slope\n",
        "    self.sizes = [self.nx] + hidden_sizes + [self.ny]\n",
        "    print(self.sizes)\n",
        "    np.random.seed(0)\n",
        "    self.W = {}\n",
        "    self.B = {}\n",
        "    self.W_H=[]\n",
        "    self.B_H=[]\n",
        "    self.E_H=[]\n",
        "    self.params={}\n",
        "    self.update_params={}\n",
        "    self.prev_update_params={}\n",
        "    if int_method == \"random\":\n",
        "      for i in range(self.nh+1):\n",
        "        self.params[\"W\"+str(i+1)] = np.random.randn(self.sizes[i], self.sizes[i+1])\n",
        "        self.params[\"B\"+str(i+1)]= np.zeros((1, self.sizes[i+1]))\n",
        "        # self.temp_params[\"W\"+str(i+1)]=self.W[i+1].copy()\n",
        "        # self.temp_params[\"B\"+str(i+1)]=self.B[i+1].copy()\n",
        "    elif int_method == \"zeros\":\n",
        "      for i in range(self.nh+1):\n",
        "        self.params[\"W\"+str(i+1)] = np.zeros((self.sizes[i], self.sizes[i+1]))\n",
        "        self.params[\"B\"+str(i+1)]= np.zeros((1, self.sizes[i+1]))\n",
        "    elif int_method == \"xavier\":\n",
        "      for i in range(self.nh+1):\n",
        "        self.params[\"W\"+str(i+1)] = np.random.randn(self.sizes[i], self.sizes[i+1])*np.square(1/self.sizes[i])\n",
        "        self.params[\"B\"+str(i+1)]= np.zeros((1, self.sizes[i+1]))\n",
        "    elif int_method == \"he\":\n",
        "      for i in range(self.nh+1):\n",
        "        self.params[\"W\"+str(i+1)] = np.random.randn(self.sizes[i], self.sizes[i+1])*np.square(2/self.sizes[i])\n",
        "        self.params[\"B\"+str(i+1)]= np.zeros((1, self.sizes[i+1]))\n",
        "    for i in range(self.nh+1):\n",
        "      # self.temp_params[\"W\"+str(i+1)]=self.W[i+1].copy()\n",
        "      # self.temp_params[\"B\"+str(i+1)]=self.B[i+1].copy()\n",
        "      self.update_params[\"v_w\"+str(i+1)]=0\n",
        "      self.update_params[\"v_b\"+str(i+1)]=0\n",
        "      self.update_params[\"m_b\"+str(i+1)]=0\n",
        "      self.update_params[\"m_w\"+str(i+1)]=0\n",
        "      self.prev_update_params[\"v_w\"+str(i+1)]=0\n",
        "      self.prev_update_params[\"v_b\"+str(i+1)]=0\n",
        "\n",
        "  \n",
        "  def activation_farwoard_pass(self,X):\n",
        "    if self.activitaion_fun == \"sigmoid\":\n",
        "      return 1.0/(1.0 + np.exp(-X))\n",
        "    elif self.activitaion_fun == \"tanh\":\n",
        "      return np.tanh(X)\n",
        "    elif self.activitaion_fun == \"Relu\":\n",
        "      return np.maximum(0,X)\n",
        "    elif self.activitaion_fun == \"leaky_Relu\":\n",
        "      return np.maximum(self.leaky_slope*X,X)\n",
        "  \n",
        "  def grad_farword_pass(self,X):\n",
        "    if self.activitaion_fun == \"sigmoid\":\n",
        "      return X*(1-X)\n",
        "    elif self.activitaion_fun == \"tanh\":\n",
        "      return (1-np.square(X))\n",
        "    elif self.activitaion_fun == \"Relu\":\n",
        "      return 1.0*(X>0)\n",
        "    elif self.activitaion_fun == \"leaky_Relu\":\n",
        "      d=np.zeros_like(X)\n",
        "      d[X<=0]=self.leaky_slope\n",
        "      d[X>0]=1.0\n",
        "      return d\n",
        "  # def sigmoid(self, X):\n",
        "  #   return 1.0/(1.0 + np.exp(-X))\n",
        "  \n",
        "  def softmax(self, X):\n",
        "    exps = np.exp(X)\n",
        "    return exps / np.sum(exps, axis=1).reshape(-1,1)\n",
        "  \n",
        "  def forward_pass(self, X ,params=None):\n",
        "    if(params is None):\n",
        "      params=self.params\n",
        "    self.A = {}\n",
        "    self.H = {}\n",
        "    self.H[0]=X\n",
        "    # self.H[0] = X.reshape(1, -1)\n",
        "    for i in range(self.nh):\n",
        "      # print(\"mat mul{} ** {} ++ {}\".format(self.H[i].shape,self.W[i+1].shape,self.B[i+1].shape))\n",
        "      self.A[i+1] = np.matmul(self.H[i], params[\"W\"+str(i+1)]) + params[\"B\"+str(i+1)] \n",
        "      self.H[i+1] = self.activation_farwoard_pass(self.A[i+1])\n",
        "    self.A[self.nh+1] = np.matmul(self.H[self.nh], params[\"W\"+str(self.nh+1)]) + params[\"B\"+str(self.nh+1)]\n",
        "    # print(\"input to softmax is{}\".format(self.A[self.nh+1]))\n",
        "    self.H[self.nh+1] = self.softmax(self.A[self.nh+1])\n",
        "    # print(\"output to softmax is{}\".format(self.H[self.nh+1]))\n",
        "    return self.H[self.nh+1]\n",
        "  \n",
        "  def grad_sigmoid(self, X):\n",
        "    return X*(1-X) \n",
        "    \n",
        "  def grad(self, X, Y,params=None):\n",
        "    if params is None:\n",
        "      params=self.params\n",
        "\n",
        "    self.forward_pass(X,params)\n",
        "    self.dW = {}\n",
        "    self.dB = {}\n",
        "    self.dH = {}\n",
        "    self.dA = {}\n",
        "    L = self.nh + 1\n",
        "    N=Y.shape[0]\n",
        "    # Y=Y.reshape(N,1)\n",
        "    # print(\"HL{}--Y{}\".format(self.H[L].shape,Y.shape))\n",
        "    self.dA[L] = (self.H[L] - Y)\n",
        "    \n",
        "    for k in range(L, 0, -1):\n",
        "      # print(k)\n",
        "      # print(\"Dw of k is=={} ** {}\".format(self.H[k-1].T.shape,self.dA[k].shape))\n",
        "      self.dW[k] = np.matmul(self.H[k-1].T, self.dA[k])\n",
        "      self.dB[k] = np.sum(self.dA[k],axis=0).reshape(1,-1)\n",
        "      # print(\"DB{}\".format(dB[3].shape))\n",
        "      self.dH[k-1] = np.matmul(self.dA[k], self.params[\"W\"+str(k)].T)\n",
        "      self.dA[k-1] = np.multiply(self.dH[k-1], self.grad_farword_pass(self.H[k-1]))\n",
        "    \n",
        "  def fit(self, X, Y, algo=\"GD\",epochs=1, initialise=True, display_loss=False,gamma=0.9,eta=1,\n",
        "          mini_batch_size=100,eps=1e-8,beta=0.9,beta1=0.9,beta2=0.9):\n",
        "    \n",
        "    # initialise w, b\n",
        "    if initialise:\n",
        "\n",
        "      for i in range(self.nh+1):\n",
        "        self.params[\"W\"+str(i+1)] = np.random.randn(self.sizes[i], self.sizes[i+1])\n",
        "        self.params[\"B\"+str(i+1)]= np.zeros((1, self.sizes[i+1]))\n",
        "        self.update_params[\"v_w\"+str(i+1)]=0\n",
        "        self.update_params[\"v_b\"+str(i+1)]=0\n",
        "        self.update_params[\"m_b\"+str(i+1)]=0\n",
        "        self.update_params[\"m_w\"+str(i+1)]=0\n",
        "        self.prev_update_params[\"v_w\"+str(i+1)]=0\n",
        "        self.prev_update_params[\"v_b\"+str(i+1)]=0\n",
        "\n",
        "      \n",
        "    if display_loss:\n",
        "      loss = {}\n",
        "    \n",
        "    for e in tqdm_notebook(range(epochs), total=epochs, unit=\"epoch\"):\n",
        "      dW = {}\n",
        "      dB = {}\n",
        "      m = X.shape[0]\n",
        "      # for i in range(self.nh+1):\n",
        "      #   dW[i+1] = np.zeros((self.sizes[i], self.sizes[i+1]))\n",
        "      #   dB[i+1] = np.zeros((1, self.sizes[i+1]))\n",
        "      \n",
        "        # for i in range(self.nh+1):\n",
        "        #   dW[i+1] += self.dW[i+1]\n",
        "        #   dB[i+1] += self.dB[i+1]\n",
        "      if algo==\"GD\":\n",
        "        self.grad(X, Y)  \n",
        "        for i in range(self.nh+1):\n",
        "          self.params[\"W\"+str(i+1)] -= eta * self.dW[i+1] / m\n",
        "          self.params[\"B\"+str(i+1)] -= eta * self.dB[i+1] / m\n",
        "      \n",
        "      elif algo == \"MiniBatch\":\n",
        "        for k in range(0,m,mini_batch_size):\n",
        "          self.grad(X[k:k+mini_batch_size], Y[k:k+mini_batch_size])\n",
        "          for i in range(self.nh+1):\n",
        "            self.params[\"W\"+str(i+1)] -= eta * (self.dW[i+1]/mini_batch_size)\n",
        "            self.params[\"B\"+str(i+1)] -= eta * (self.dB[i+1]/mini_batch_size)\n",
        "      \n",
        "      elif algo==\"Momentum\":\n",
        "        self.grad(X,Y)\n",
        "        for i in range(self.nh+1):\n",
        "          self.update_params[\"v_w\"+str(i+1)] = gamma *self.update_params[\"v_w\"+str(i+1)] + eta * (self.dW[i+1]/m)\n",
        "          self.update_params[\"v_b\"+str(i+1)] = gamma *self.update_params[\"v_b\"+str(i+1)] + eta * (self.dB[i+1]/m)\n",
        "          self.params[\"W\"+str(i+1)] -= self.update_params[\"v_w\"+str(i+1)]\n",
        "          self.params[\"B\"+str(i+1)] -= self.update_params[\"v_b\"+str(i+1)]\n",
        "      elif algo == \"NAG\":\n",
        "        temp_params = {}\n",
        "        for i in range(self.nh+1):\n",
        "          self.update_params[\"v_w\"+str(i+1)]=gamma*self.prev_update_params[\"v_w\"+str(i+1)]\n",
        "          self.update_params[\"v_b\"+str(i+1)]=gamma*self.prev_update_params[\"v_b\"+str(i+1)]\n",
        "          temp_params[\"W\"+str(i+1)]=self.params[\"W\"+str(i+1)]-self.update_params[\"v_w\"+str(i+1)]\n",
        "          temp_params[\"B\"+str(i+1)]=self.params[\"B\"+str(i+1)]-self.update_params[\"v_b\"+str(i+1)]\n",
        "        self.grad(X,Y,temp_params)\n",
        "        for i in range(self.nh+1):\n",
        "          self.update_params[\"v_w\"+str(i+1)] = gamma *self.update_params[\"v_w\"+str(i+1)] + eta * (self.dW[i+1]/m)\n",
        "          self.update_params[\"v_b\"+str(i+1)] = gamma *self.update_params[\"v_b\"+str(i+1)] + eta * (self.dB[i+1]/m)\n",
        "          self.params[\"W\"+str(i+1)] -= eta * (self.update_params[\"v_w\"+str(i+1)])\n",
        "          self.params[\"B\"+str(i+1)] -= eta * (self.update_params[\"v_b\"+str(i+1)]) \n",
        "        self.prev_update_params=self.update_params\n",
        "      \n",
        "      elif algo == \"AdaGrad\":\n",
        "        self.grad(X, Y)\n",
        "        for i in range(self.nh+1):\n",
        "          self.update_params[\"v_w\"+str(i+1)] += (self.dW[i+1]/m)**2\n",
        "          self.update_params[\"v_b\"+str(i+1)] += (self.dB[i+1]/m)**2\n",
        "          self.params[\"W\"+str(i+1)] -= (eta/(np.sqrt(self.update_params[\"v_w\"+str(i+1)])+eps)) * (self.dW[i+1]/m)\n",
        "          self.params[\"B\"+str(i+1)] -= (eta/(np.sqrt(self.update_params[\"v_b\"+str(i+1)])+eps)) * (self.dB[i+1]/m)\n",
        "     \n",
        "      elif algo == \"RMSProp\":\n",
        "        self.grad(X, Y)\n",
        "        for i in range(self.nh+1):\n",
        "          self.update_params[\"v_w\"+str(i+1)] = beta*self.update_params[\"v_w\"+str(i+1)] +(1-beta)*((self.dW[i+1]/m)**2)\n",
        "          self.update_params[\"v_b\"+str(i+1)] = beta*self.update_params[\"v_b\"+str(i+1)] +(1-beta)*((self.dB[i+1]/m)**2)\n",
        "          self.params[\"W\"+str(i+1)] -= (eta/(np.sqrt(self.update_params[\"v_w\"+str(i+1)]+eps)))*(self.dW[i+1]/m)\n",
        "          self.params[\"B\"+str(i+1)] -= (eta/(np.sqrt(self.update_params[\"v_b\"+str(i+1)]+eps)))*(self.dB[i+1]/m)\n",
        "      \n",
        "      \n",
        "      elif algo == \"Adam\":\n",
        "        self.grad(X, Y)\n",
        "        num_updates=0\n",
        "        for i in range(self.nh+1):\n",
        "          num_updates+=1\n",
        "          self.update_params[\"m_w\"+str(i+1)]=beta1*self.update_params[\"m_w\"+str(i+1)]+(1-beta1)*(self.dW[i+1]/m)\n",
        "          self.update_params[\"v_w\"+str(i+1)]=beta2*self.update_params[\"v_w\"+str(i+1)]+(1-beta2)*((self.dW[i+1]/m)**2)\n",
        "          m_w_hat=self.update_params[\"m_w\"+str(i+1)]/(1-np.power(beta1,num_updates))\n",
        "          v_w_hat=self.update_params[\"v_w\"+str(i+1)]/(1-np.power(beta2,num_updates))\n",
        "          self.params[\"W\"+str(i+1)] -=(eta/np.sqrt(v_w_hat+eps))*m_w_hat\n",
        "          \n",
        "          self.update_params[\"m_b\"+str(i+1)]=beta1*self.update_params[\"m_b\"+str(i+1)]+(1-beta1)*(self.dB[i+1]/m)\n",
        "          self.update_params[\"v_b\"+str(i+1)]=beta2*self.update_params[\"v_b\"+str(i+1)]+(1-beta2)*((self.dB[i+1]/m)**2)\n",
        "          m_b_hat=self.update_params[\"m_b\"+str(i+1)]/(1-np.power(beta1,num_updates))\n",
        "          v_b_hat=self.update_params[\"v_b\"+str(i+1)]/(1-np.power(beta2,num_updates))\n",
        "          self.params[\"B\"+str(i+1)] -=(eta/np.sqrt(v_b_hat+eps))*m_b_hat\n",
        "\n",
        "      if display_loss:\n",
        "        Y_pred = self.predict(X)\n",
        "        loss[e] = log_loss(np.argmax(Y, axis=1), Y_pred)\n",
        "    \n",
        "    if display_loss:\n",
        "      plt.plot(np.array(list(loss.values())))\n",
        "      plt.xlabel('Epochs')\n",
        "      plt.ylabel('Mean Squared Error')\n",
        "      plt.show()\n",
        "      \n",
        "  def predict(self, X):\n",
        "    Y_pred1 = []\n",
        "    y_pred = self.forward_pass(X)\n",
        "    Y_pred1.append(y_pred)\n",
        "    return np.array(Y_pred1).squeeze()"
      ],
      "execution_count": 16,
      "outputs": []
    },
    {
      "cell_type": "code",
      "metadata": {
        "id": "oOQWM677-WWs",
        "colab_type": "code",
        "colab": {
          "base_uri": "https://localhost:8080/",
          "height": 378,
          "referenced_widgets": [
            "d24d2f5756224adfbbc4b568b8ca1e0a",
            "4ede41e724d84a5494e0daf624293244",
            "1266075c1a2245e8b5f6dc1d47c582d6",
            "170896323cc8453faa1ea8f23625cdc0",
            "7ad7646ad03b4076b97291ccd4bfe572",
            "c2eb4277dcd94968a5f5dfa633807125",
            "b487eda69c3648d596c5e8a0dfff8f53",
            "58aeafb72797429fa7d0344af14bbf3a"
          ]
        },
        "outputId": "cca9dbda-536e-4ed1-cb94-2a18aaa8128a"
      },
      "source": [
        "%%time\n",
        "sai2=FFSNNetwork_mul(10,20,[10,10],activitaion_fun='leaky_Relu',int_method='he',leaky_slope=0.1)\n",
        "sai2.fit(X_train_m,y_OH_train,algo='GD',epochs=500,eta=0.1,display_loss=True)"
      ],
      "execution_count": 176,
      "outputs": [
        {
          "output_type": "stream",
          "text": [
            "[10, 10, 10, 20]\n"
          ],
          "name": "stdout"
        },
        {
          "output_type": "display_data",
          "data": {
            "application/vnd.jupyter.widget-view+json": {
              "model_id": "d24d2f5756224adfbbc4b568b8ca1e0a",
              "version_minor": 0,
              "version_major": 2
            },
            "text/plain": [
              "HBox(children=(FloatProgress(value=0.0, max=500.0), HTML(value='')))"
            ]
          },
          "metadata": {
            "tags": []
          }
        },
        {
          "output_type": "stream",
          "text": [
            "\n"
          ],
          "name": "stdout"
        },
        {
          "output_type": "display_data",
          "data": {
            "image/png": "[encoded data removed]",
            "text/plain": [
              "<Figure size 432x288 with 1 Axes>"
            ]
          },
          "metadata": {
            "tags": [],
            "needs_background": "light"
          }
        },
        {
          "output_type": "stream",
          "text": [
            "CPU times: user 2.13 s, sys: 10.9 ms, total: 2.14 s\n",
            "Wall time: 2.14 s\n"
          ],
          "name": "stdout"
        }
      ]
    },
    {
      "cell_type": "code",
      "metadata": {
        "id": "-XT3Peij-WeE",
        "colab_type": "code",
        "colab": {
          "base_uri": "https://localhost:8080/",
          "height": 50
        },
        "outputId": "57cf4fef-4ffa-4df1-eb86-76557675d5e9"
      },
      "source": [
        "Y_pred_train = sai2.predict(X_train_m)\n",
        "Y_pred_train = np.argmax(Y_pred_train,1)\n",
        "\n",
        "Y_pred_val = sai2.predict(X_val_m)\n",
        "Y_pred_val = np.argmax(Y_pred_val,1)\n",
        "\n",
        "accuracy_train = accuracy_score(Y_pred_train, Y_train_m)\n",
        "accuracy_val = accuracy_score(Y_pred_val, Y_val_m)\n",
        "\n",
        "print(\"Training accuracy\", round(accuracy_train, 2))\n",
        "print(\"Validation accuracy\", round(accuracy_val, 2))"
      ],
      "execution_count": 177,
      "outputs": [
        {
          "output_type": "stream",
          "text": [
            "Training accuracy 1.0\n",
            "Validation accuracy 0.99\n"
          ],
          "name": "stdout"
        }
      ]
    },
    {
      "cell_type": "code",
      "metadata": {
        "id": "4ja8CrRi-WaJ",
        "colab_type": "code",
        "colab": {
          "base_uri": "https://localhost:8080/",
          "height": 267
        },
        "outputId": "347fc3d4-daf5-48e7-df4f-0281e4cff0d7"
      },
      "source": [
        "plt.scatter(X_train_m[:,0], X_train_m[:,1], c=Y_pred_train, cmap=my_cmap, s=15*(np.abs(np.sign(Y_pred_train-Y_train_m))+.1))\n",
        "plt.show()"
      ],
      "execution_count": 178,
      "outputs": [
        {
          "output_type": "display_data",
          "data": {
            "image/png": "[encoded data removed]",
            "text/plain": [
              "<Figure size 432x288 with 1 Axes>"
            ]
          },
          "metadata": {
            "tags": [],
            "needs_background": "light"
          }
        }
      ]
    },
    {
      "cell_type": "code",
      "metadata": {
        "id": "khvuSXuS-WTR",
        "colab_type": "code",
        "colab": {
          "base_uri": "https://localhost:8080/",
          "height": 378,
          "referenced_widgets": [
            "942f0f92b7964432a3d60a1875845040",
            "bce6a33928934b568d4117624f94a65b",
            "2e0c44d13f5a4ab18523774b1fa00d8b",
            "6e2bf9ae5f6a4814ada45cdb55e6b86b",
            "7d08d67bfd234f2ca6ea8eb403bc1dd1",
            "28000a7056bc46b18078a0b9f9b10f2a",
            "b574ae8664814e87ae0b74358a650323",
            "6cda7828cf724f9a908a95d1a3006024"
          ]
        },
        "outputId": "f322996f-7612-4dbc-a517-04cffac6dbd5"
      },
      "source": [
        "%%time\n",
        "sai2=FFSNNetwork_mul(10,20,[16,12],activitaion_fun='leaky_Relu',int_method='he',leaky_slope=0.01)\n",
        "sai2.fit(X_train_m, y_OH_train, epochs=200, eta=.01, algo=\"Adam\", beta=0.9, display_loss=True)"
      ],
      "execution_count": 197,
      "outputs": [
        {
          "output_type": "stream",
          "text": [
            "[10, 16, 12, 20]\n"
          ],
          "name": "stdout"
        },
        {
          "output_type": "display_data",
          "data": {
            "application/vnd.jupyter.widget-view+json": {
              "model_id": "942f0f92b7964432a3d60a1875845040",
              "version_minor": 0,
              "version_major": 2
            },
            "text/plain": [
              "HBox(children=(FloatProgress(value=0.0, max=200.0), HTML(value='')))"
            ]
          },
          "metadata": {
            "tags": []
          }
        },
        {
          "output_type": "stream",
          "text": [
            "\n"
          ],
          "name": "stdout"
        },
        {
          "output_type": "display_data",
          "data": {
            "image/png": "[encoded data removed]",
            "text/plain": [
              "<Figure size 432x288 with 1 Axes>"
            ]
          },
          "metadata": {
            "tags": [],
            "needs_background": "light"
          }
        },
        {
          "output_type": "stream",
          "text": [
            "CPU times: user 1.06 s, sys: 18 ms, total: 1.08 s\n",
            "Wall time: 1.1 s\n"
          ],
          "name": "stdout"
        }
      ]
    },
    {
      "cell_type": "code",
      "metadata": {
        "id": "d97QTMkLEDXk",
        "colab_type": "code",
        "colab": {
          "base_uri": "https://localhost:8080/",
          "height": 50
        },
        "outputId": "35907d7f-dfe8-4624-a501-76ec90c05266"
      },
      "source": [
        "Y_pred_train = sai2.predict(X_train_m)\n",
        "Y_pred_train = np.argmax(Y_pred_train,1)\n",
        "\n",
        "Y_pred_val = sai2.predict(X_val_m)\n",
        "Y_pred_val = np.argmax(Y_pred_val,1)\n",
        "\n",
        "accuracy_train = accuracy_score(Y_pred_train, Y_train_m)\n",
        "accuracy_val = accuracy_score(Y_pred_val, Y_val_m)\n",
        "\n",
        "print(\"Training accuracy\", round(accuracy_train, 2))\n",
        "print(\"Validation accuracy\", round(accuracy_val, 2))"
      ],
      "execution_count": 198,
      "outputs": [
        {
          "output_type": "stream",
          "text": [
            "Training accuracy 1.0\n",
            "Validation accuracy 0.99\n"
          ],
          "name": "stdout"
        }
      ]
    },
    {
      "cell_type": "code",
      "metadata": {
        "id": "azKKQgCKESoV",
        "colab_type": "code",
        "colab": {
          "base_uri": "https://localhost:8080/",
          "height": 267
        },
        "outputId": "49777dd3-d6d8-4d41-e5e4-429c915203f3"
      },
      "source": [
        "plt.scatter(X_train_m[:,0], X_train_m[:,1], c=Y_pred_train, cmap=my_cmap, s=15*(np.abs(np.sign(Y_pred_train-Y_train_m))+.01))\n",
        "plt.show()"
      ],
      "execution_count": 200,
      "outputs": [
        {
          "output_type": "display_data",
          "data": {
            "image/png": "[encoded data removed]",
            "text/plain": [
              "<Figure size 432x288 with 1 Axes>"
            ]
          },
          "metadata": {
            "tags": [],
            "needs_background": "light"
          }
        }
      ]
    },
    {
      "cell_type": "markdown",
      "metadata": {
        "id": "N7Xi-zt5J3hh",
        "colab_type": "text"
      },
      "source": [
        "Exercise\n",
        "\n",
        "0. Duplicate this exercise for our smaller network with 3 neurons (binary classification). In this case, you can practise writing the vectorised form of the gradient descent. \n",
        "\n",
        "1. After training for a few epochs, freeze updates to all variables, except two (say w_1 and w_2 in our diagram). Now we have a situation similar to the previous setting (where there are two variables and we can plot 2d and 3d plots). Plot the error surface and animate to visualise each algorithm. \n",
        "\n",
        "2. Try 1. with different parameters (say w_3, b_2) and observe how the algorithms work\n"
      ]
    },
    {
      "cell_type": "code",
      "metadata": {
        "id": "R0zX8DkF-VhE",
        "colab_type": "code",
        "colab": {}
      },
      "source": [
        ""
      ],
      "execution_count": null,
      "outputs": []
    }
  ]
}